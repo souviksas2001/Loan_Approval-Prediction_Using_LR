{
 "cells": [
  {
   "cell_type": "code",
   "execution_count": 1,
   "id": "f880cf4a",
   "metadata": {},
   "outputs": [],
   "source": [
    "import pandas as pd\n",
    "import numpy as np\n",
    "import seaborn as sns\n",
    "import matplotlib.pyplot as plt\n",
    "import sklearn\n",
    "import statsmodels.api as sm\n",
    "from sklearn import metrics \n",
    "from sklearn.model_selection import train_test_split\n",
    "from sklearn.linear_model import LogisticRegression\n",
    "from sklearn.metrics import classification_report\n",
    "from sklearn.metrics import confusion_matrix\n",
    "from sklearn.metrics import accuracy_score\n",
    "import os"
   ]
  },
  {
   "cell_type": "code",
   "execution_count": 2,
   "id": "281b1dbe",
   "metadata": {},
   "outputs": [],
   "source": [
    "df = pd.read_csv(\"loan_approval_dataset.csv\")"
   ]
  },
  {
   "cell_type": "code",
   "execution_count": 3,
   "id": "e0867bb4",
   "metadata": {},
   "outputs": [
    {
     "data": {
      "text/html": [
       "<div>\n",
       "<style scoped>\n",
       "    .dataframe tbody tr th:only-of-type {\n",
       "        vertical-align: middle;\n",
       "    }\n",
       "\n",
       "    .dataframe tbody tr th {\n",
       "        vertical-align: top;\n",
       "    }\n",
       "\n",
       "    .dataframe thead th {\n",
       "        text-align: right;\n",
       "    }\n",
       "</style>\n",
       "<table border=\"1\" class=\"dataframe\">\n",
       "  <thead>\n",
       "    <tr style=\"text-align: right;\">\n",
       "      <th></th>\n",
       "      <th>loan_id</th>\n",
       "      <th>no_of_dependents</th>\n",
       "      <th>education</th>\n",
       "      <th>self_employed</th>\n",
       "      <th>income_annum</th>\n",
       "      <th>loan_amount</th>\n",
       "      <th>loan_term</th>\n",
       "      <th>cibil_score</th>\n",
       "      <th>residential_assets_value</th>\n",
       "      <th>commercial_assets_value</th>\n",
       "      <th>luxury_assets_value</th>\n",
       "      <th>bank_asset_value</th>\n",
       "      <th>loan_status</th>\n",
       "    </tr>\n",
       "  </thead>\n",
       "  <tbody>\n",
       "    <tr>\n",
       "      <th>0</th>\n",
       "      <td>1</td>\n",
       "      <td>2</td>\n",
       "      <td>Graduate</td>\n",
       "      <td>No</td>\n",
       "      <td>9600000</td>\n",
       "      <td>29900000</td>\n",
       "      <td>12</td>\n",
       "      <td>778</td>\n",
       "      <td>2400000</td>\n",
       "      <td>17600000</td>\n",
       "      <td>22700000</td>\n",
       "      <td>8000000</td>\n",
       "      <td>Approved</td>\n",
       "    </tr>\n",
       "    <tr>\n",
       "      <th>1</th>\n",
       "      <td>2</td>\n",
       "      <td>0</td>\n",
       "      <td>Not Graduate</td>\n",
       "      <td>Yes</td>\n",
       "      <td>4100000</td>\n",
       "      <td>12200000</td>\n",
       "      <td>8</td>\n",
       "      <td>417</td>\n",
       "      <td>2700000</td>\n",
       "      <td>2200000</td>\n",
       "      <td>8800000</td>\n",
       "      <td>3300000</td>\n",
       "      <td>Rejected</td>\n",
       "    </tr>\n",
       "    <tr>\n",
       "      <th>2</th>\n",
       "      <td>3</td>\n",
       "      <td>3</td>\n",
       "      <td>Graduate</td>\n",
       "      <td>No</td>\n",
       "      <td>9100000</td>\n",
       "      <td>29700000</td>\n",
       "      <td>20</td>\n",
       "      <td>506</td>\n",
       "      <td>7100000</td>\n",
       "      <td>4500000</td>\n",
       "      <td>33300000</td>\n",
       "      <td>12800000</td>\n",
       "      <td>Rejected</td>\n",
       "    </tr>\n",
       "    <tr>\n",
       "      <th>3</th>\n",
       "      <td>4</td>\n",
       "      <td>3</td>\n",
       "      <td>Graduate</td>\n",
       "      <td>No</td>\n",
       "      <td>8200000</td>\n",
       "      <td>30700000</td>\n",
       "      <td>8</td>\n",
       "      <td>467</td>\n",
       "      <td>18200000</td>\n",
       "      <td>3300000</td>\n",
       "      <td>23300000</td>\n",
       "      <td>7900000</td>\n",
       "      <td>Rejected</td>\n",
       "    </tr>\n",
       "    <tr>\n",
       "      <th>4</th>\n",
       "      <td>5</td>\n",
       "      <td>5</td>\n",
       "      <td>Not Graduate</td>\n",
       "      <td>Yes</td>\n",
       "      <td>9800000</td>\n",
       "      <td>24200000</td>\n",
       "      <td>20</td>\n",
       "      <td>382</td>\n",
       "      <td>12400000</td>\n",
       "      <td>8200000</td>\n",
       "      <td>29400000</td>\n",
       "      <td>5000000</td>\n",
       "      <td>Rejected</td>\n",
       "    </tr>\n",
       "  </tbody>\n",
       "</table>\n",
       "</div>"
      ],
      "text/plain": [
       "   loan_id   no_of_dependents      education  self_employed   income_annum  \\\n",
       "0        1                  2       Graduate             No        9600000   \n",
       "1        2                  0   Not Graduate            Yes        4100000   \n",
       "2        3                  3       Graduate             No        9100000   \n",
       "3        4                  3       Graduate             No        8200000   \n",
       "4        5                  5   Not Graduate            Yes        9800000   \n",
       "\n",
       "    loan_amount   loan_term   cibil_score   residential_assets_value  \\\n",
       "0      29900000          12           778                    2400000   \n",
       "1      12200000           8           417                    2700000   \n",
       "2      29700000          20           506                    7100000   \n",
       "3      30700000           8           467                   18200000   \n",
       "4      24200000          20           382                   12400000   \n",
       "\n",
       "    commercial_assets_value   luxury_assets_value   bank_asset_value  \\\n",
       "0                  17600000              22700000            8000000   \n",
       "1                   2200000               8800000            3300000   \n",
       "2                   4500000              33300000           12800000   \n",
       "3                   3300000              23300000            7900000   \n",
       "4                   8200000              29400000            5000000   \n",
       "\n",
       "   loan_status  \n",
       "0     Approved  \n",
       "1     Rejected  \n",
       "2     Rejected  \n",
       "3     Rejected  \n",
       "4     Rejected  "
      ]
     },
     "execution_count": 3,
     "metadata": {},
     "output_type": "execute_result"
    }
   ],
   "source": [
    "df.head(5)"
   ]
  },
  {
   "cell_type": "code",
   "execution_count": 6,
   "id": "7dd0bd4e",
   "metadata": {},
   "outputs": [
    {
     "data": {
      "text/plain": [
       "loan_id                      0\n",
       " no_of_dependents            0\n",
       " education                   0\n",
       " self_employed               0\n",
       " income_annum                0\n",
       " loan_amount                 0\n",
       " loan_term                   0\n",
       " cibil_score                 0\n",
       " residential_assets_value    0\n",
       " commercial_assets_value     0\n",
       " luxury_assets_value         0\n",
       " bank_asset_value            0\n",
       " loan_status                 0\n",
       "dtype: int64"
      ]
     },
     "execution_count": 6,
     "metadata": {},
     "output_type": "execute_result"
    }
   ],
   "source": [
    "df.isnull().sum()"
   ]
  },
  {
   "cell_type": "code",
   "execution_count": 7,
   "id": "fd0fad26",
   "metadata": {},
   "outputs": [
    {
     "name": "stdout",
     "output_type": "stream",
     "text": [
      "<class 'pandas.core.frame.DataFrame'>\n",
      "RangeIndex: 4269 entries, 0 to 4268\n",
      "Data columns (total 13 columns):\n",
      " #   Column                     Non-Null Count  Dtype \n",
      "---  ------                     --------------  ----- \n",
      " 0   loan_id                    4269 non-null   int64 \n",
      " 1    no_of_dependents          4269 non-null   int64 \n",
      " 2    education                 4269 non-null   object\n",
      " 3    self_employed             4269 non-null   object\n",
      " 4    income_annum              4269 non-null   int64 \n",
      " 5    loan_amount               4269 non-null   int64 \n",
      " 6    loan_term                 4269 non-null   int64 \n",
      " 7    cibil_score               4269 non-null   int64 \n",
      " 8    residential_assets_value  4269 non-null   int64 \n",
      " 9    commercial_assets_value   4269 non-null   int64 \n",
      " 10   luxury_assets_value       4269 non-null   int64 \n",
      " 11   bank_asset_value          4269 non-null   int64 \n",
      " 12   loan_status               4269 non-null   object\n",
      "dtypes: int64(10), object(3)\n",
      "memory usage: 433.7+ KB\n"
     ]
    }
   ],
   "source": [
    "df.info()"
   ]
  },
  {
   "cell_type": "code",
   "execution_count": 20,
   "id": "a3f3b96c",
   "metadata": {},
   "outputs": [
    {
     "data": {
      "text/plain": [
       " Graduate        2144\n",
       " Not Graduate    2125\n",
       "Name:  education, dtype: int64"
      ]
     },
     "execution_count": 20,
     "metadata": {},
     "output_type": "execute_result"
    }
   ],
   "source": [
    "df[' education'].value_counts()"
   ]
  },
  {
   "cell_type": "code",
   "execution_count": 23,
   "id": "9eb99021",
   "metadata": {},
   "outputs": [],
   "source": [
    "df[' education'] = df[' education'].apply(lambda x: 1 if x in \" Graduate\" else 0 ).astype(int)"
   ]
  },
  {
   "cell_type": "code",
   "execution_count": 27,
   "id": "d2b56af1",
   "metadata": {},
   "outputs": [
    {
     "data": {
      "text/plain": [
       " Yes    2150\n",
       " No     2119\n",
       "Name:  self_employed, dtype: int64"
      ]
     },
     "execution_count": 27,
     "metadata": {},
     "output_type": "execute_result"
    }
   ],
   "source": [
    "df[' self_employed'].value_counts()"
   ]
  },
  {
   "cell_type": "code",
   "execution_count": 29,
   "id": "a3b93856",
   "metadata": {},
   "outputs": [],
   "source": [
    "df[' self_employed'] = df[' self_employed'].apply(lambda x: 1 if x in \" Yes\" else 0 ).astype(int)"
   ]
  },
  {
   "cell_type": "code",
   "execution_count": 32,
   "id": "4978942b",
   "metadata": {},
   "outputs": [],
   "source": [
    "df[' loan_status'] = df[' loan_status'].apply(lambda x: 1 if x in \" Approved\" else 0 ).astype(int)"
   ]
  },
  {
   "cell_type": "code",
   "execution_count": 33,
   "id": "6f9fb2ae",
   "metadata": {},
   "outputs": [
    {
     "data": {
      "text/html": [
       "<div>\n",
       "<style scoped>\n",
       "    .dataframe tbody tr th:only-of-type {\n",
       "        vertical-align: middle;\n",
       "    }\n",
       "\n",
       "    .dataframe tbody tr th {\n",
       "        vertical-align: top;\n",
       "    }\n",
       "\n",
       "    .dataframe thead th {\n",
       "        text-align: right;\n",
       "    }\n",
       "</style>\n",
       "<table border=\"1\" class=\"dataframe\">\n",
       "  <thead>\n",
       "    <tr style=\"text-align: right;\">\n",
       "      <th></th>\n",
       "      <th>loan_id</th>\n",
       "      <th>no_of_dependents</th>\n",
       "      <th>education</th>\n",
       "      <th>self_employed</th>\n",
       "      <th>income_annum</th>\n",
       "      <th>loan_amount</th>\n",
       "      <th>loan_term</th>\n",
       "      <th>cibil_score</th>\n",
       "      <th>residential_assets_value</th>\n",
       "      <th>commercial_assets_value</th>\n",
       "      <th>luxury_assets_value</th>\n",
       "      <th>bank_asset_value</th>\n",
       "      <th>loan_status</th>\n",
       "    </tr>\n",
       "  </thead>\n",
       "  <tbody>\n",
       "    <tr>\n",
       "      <th>1944</th>\n",
       "      <td>1945</td>\n",
       "      <td>0</td>\n",
       "      <td>1</td>\n",
       "      <td>1</td>\n",
       "      <td>4700000</td>\n",
       "      <td>17700000</td>\n",
       "      <td>16</td>\n",
       "      <td>887</td>\n",
       "      <td>1300000</td>\n",
       "      <td>4900000</td>\n",
       "      <td>13200000</td>\n",
       "      <td>6700000</td>\n",
       "      <td>1</td>\n",
       "    </tr>\n",
       "    <tr>\n",
       "      <th>4188</th>\n",
       "      <td>4189</td>\n",
       "      <td>4</td>\n",
       "      <td>1</td>\n",
       "      <td>0</td>\n",
       "      <td>5800000</td>\n",
       "      <td>18500000</td>\n",
       "      <td>16</td>\n",
       "      <td>436</td>\n",
       "      <td>1400000</td>\n",
       "      <td>5500000</td>\n",
       "      <td>17100000</td>\n",
       "      <td>6500000</td>\n",
       "      <td>0</td>\n",
       "    </tr>\n",
       "    <tr>\n",
       "      <th>129</th>\n",
       "      <td>130</td>\n",
       "      <td>3</td>\n",
       "      <td>1</td>\n",
       "      <td>0</td>\n",
       "      <td>400000</td>\n",
       "      <td>1200000</td>\n",
       "      <td>12</td>\n",
       "      <td>861</td>\n",
       "      <td>200000</td>\n",
       "      <td>600000</td>\n",
       "      <td>1100000</td>\n",
       "      <td>200000</td>\n",
       "      <td>1</td>\n",
       "    </tr>\n",
       "    <tr>\n",
       "      <th>461</th>\n",
       "      <td>462</td>\n",
       "      <td>5</td>\n",
       "      <td>1</td>\n",
       "      <td>1</td>\n",
       "      <td>1000000</td>\n",
       "      <td>2500000</td>\n",
       "      <td>14</td>\n",
       "      <td>885</td>\n",
       "      <td>2200000</td>\n",
       "      <td>100000</td>\n",
       "      <td>2300000</td>\n",
       "      <td>1100000</td>\n",
       "      <td>1</td>\n",
       "    </tr>\n",
       "    <tr>\n",
       "      <th>99</th>\n",
       "      <td>100</td>\n",
       "      <td>0</td>\n",
       "      <td>1</td>\n",
       "      <td>0</td>\n",
       "      <td>4400000</td>\n",
       "      <td>10800000</td>\n",
       "      <td>14</td>\n",
       "      <td>463</td>\n",
       "      <td>2400000</td>\n",
       "      <td>4800000</td>\n",
       "      <td>13800000</td>\n",
       "      <td>4700000</td>\n",
       "      <td>0</td>\n",
       "    </tr>\n",
       "  </tbody>\n",
       "</table>\n",
       "</div>"
      ],
      "text/plain": [
       "      loan_id   no_of_dependents   education   self_employed   income_annum  \\\n",
       "1944     1945                  0           1               1        4700000   \n",
       "4188     4189                  4           1               0        5800000   \n",
       "129       130                  3           1               0         400000   \n",
       "461       462                  5           1               1        1000000   \n",
       "99        100                  0           1               0        4400000   \n",
       "\n",
       "       loan_amount   loan_term   cibil_score   residential_assets_value  \\\n",
       "1944      17700000          16           887                    1300000   \n",
       "4188      18500000          16           436                    1400000   \n",
       "129        1200000          12           861                     200000   \n",
       "461        2500000          14           885                    2200000   \n",
       "99        10800000          14           463                    2400000   \n",
       "\n",
       "       commercial_assets_value   luxury_assets_value   bank_asset_value  \\\n",
       "1944                   4900000              13200000            6700000   \n",
       "4188                   5500000              17100000            6500000   \n",
       "129                     600000               1100000             200000   \n",
       "461                     100000               2300000            1100000   \n",
       "99                     4800000              13800000            4700000   \n",
       "\n",
       "       loan_status  \n",
       "1944             1  \n",
       "4188             0  \n",
       "129              1  \n",
       "461              1  \n",
       "99               0  "
      ]
     },
     "execution_count": 33,
     "metadata": {},
     "output_type": "execute_result"
    }
   ],
   "source": [
    "df.sample(5)"
   ]
  },
  {
   "cell_type": "code",
   "execution_count": 35,
   "id": "5d31bd8e",
   "metadata": {},
   "outputs": [
    {
     "data": {
      "text/plain": [
       "loan_id                      0.017685\n",
       " no_of_dependents           -0.018114\n",
       " education                   0.004918\n",
       " self_employed               0.000345\n",
       " income_annum               -0.015189\n",
       " loan_amount                 0.016150\n",
       " loan_term                  -0.113036\n",
       " cibil_score                 0.770518\n",
       " residential_assets_value   -0.014367\n",
       " commercial_assets_value     0.008246\n",
       " luxury_assets_value        -0.015465\n",
       " bank_asset_value           -0.006778\n",
       " loan_status                 1.000000\n",
       "Name:  loan_status, dtype: float64"
      ]
     },
     "execution_count": 35,
     "metadata": {},
     "output_type": "execute_result"
    }
   ],
   "source": [
    "df.corr()[' loan_status']"
   ]
  },
  {
   "cell_type": "code",
   "execution_count": 45,
   "id": "9b6fa7c6",
   "metadata": {},
   "outputs": [
    {
     "data": {
      "image/png": "[encoded data removed]",
      "text/plain": [
       "<Figure size 640x480 with 1 Axes>"
      ]
     },
     "metadata": {},
     "output_type": "display_data"
    }
   ],
   "source": [
    "import seaborn as sns\n",
    "import matplotlib.pyplot as plt\n",
    "\n",
    "sns.scatterplot(x=' cibil_score', y=' loan_status', data=df)\n",
    "\n",
    "# Add a linear regression line using Seaborn\n",
    "sns.regplot(x=' cibil_score', y=' loan_status', data=df, scatter=False)\n",
    "\n",
    "# Customize the plot (if needed)\n",
    "plt.title('Linear Regression Plot')\n",
    "plt.xlabel(' cibil_score')\n",
    "plt.ylabel(' loan_status')\n",
    "\n",
    "# Show the plot\n",
    "plt.show()\n"
   ]
  },
  {
   "cell_type": "code",
   "execution_count": 40,
   "id": "689a4c57",
   "metadata": {},
   "outputs": [
    {
     "data": {
      "image/png": "[encoded data removed]",
      "text/plain": [
       "<Figure size 640x480 with 1 Axes>"
      ]
     },
     "metadata": {},
     "output_type": "display_data"
    }
   ],
   "source": [
    "import seaborn as sns\n",
    "import matplotlib.pyplot as plt\n",
    "import pandas as pd\n",
    "import numpy as np\n",
    "from sklearn.linear_model import LogisticRegression\n",
    "\n",
    "x = df[' cibil_score']\n",
    "y = df[' loan_status']\n",
    "\n",
    "# Reshape 'x' if it's a 1D array\n",
    "x = x.values.reshape(-1, 1)\n",
    "\n",
    "# Create a logistic regression model and fit it to the data\n",
    "model = LogisticRegression()\n",
    "model.fit(x, y)\n",
    "\n",
    "# Create a range of values for your independent variable\n",
    "x_values = np.linspace(min(x), max(x), 1000).reshape(-1, 1)\n",
    "\n",
    "# Generate prediction probabilities for each value in the range\n",
    "y_probabilities = model.predict_proba(x_values)[:, 1]\n",
    "\n",
    "\n",
    "# Create a scatter plot of the data\n",
    "sns.scatterplot(x=' cibil_score', y=' loan_status', data=df, label='Data')\n",
    "\n",
    "# Plot the logistic regression curve\n",
    "plt.plot(x_values, y_probabilities, color='red', label='Logistic Regression Curve')\n",
    "\n",
    "# Set plot labels and title\n",
    "plt.xlabel(' cibil_score')\n",
    "plt.ylabel(' loan_status')\n",
    "plt.title('Logistic Regression Curve')\n",
    "\n",
    "# Add a legend\n",
    "plt.legend()\n",
    "\n",
    "# Show the plot\n",
    "plt.show()\n"
   ]
  },
  {
   "cell_type": "code",
   "execution_count": 46,
   "id": "ab4af5f6",
   "metadata": {},
   "outputs": [
    {
     "name": "stdout",
     "output_type": "stream",
     "text": [
      "(3415, 12)\n",
      "(854, 12)\n"
     ]
    }
   ],
   "source": [
    "X = df.drop(columns=[' loan_status'])\n",
    "y = df[' loan_status']\n",
    "\n",
    "X_train, X_test, y_train, y_test = sklearn.model_selection.train_test_split(X, y, test_size = 0.2, random_state = 5)\n",
    "\n",
    "print(X_train.shape)\n",
    "print(X_test.shape)"
   ]
  },
  {
   "cell_type": "code",
   "execution_count": 47,
   "id": "123fe865",
   "metadata": {},
   "outputs": [
    {
     "name": "stdout",
     "output_type": "stream",
     "text": [
      "Intercept: [1.1793257e-06]\n",
      "Coefficients: [[-4.73201687e-04  1.82574568e-06  4.73017307e-07  6.56852427e-07\n",
      "  -4.84426588e-07  6.16874564e-08 -1.01943494e-05  5.63993873e-03\n",
      "  -1.57768798e-09  1.92443031e-08  2.42741136e-09  1.39588304e-08]]\n",
      "Accuracy: 0.734192037470726\n"
     ]
    }
   ],
   "source": [
    "model1 = LogisticRegression(max_iter=1000,random_state=0).fit(X_train, y_train)\n",
    "print('Intercept:', model1.intercept_)\n",
    "print('Coefficients:', model1.coef_)\n",
    "print('Accuracy:',model1.score(X_test,y_test))"
   ]
  },
  {
   "cell_type": "code",
   "execution_count": 48,
   "id": "1707ba6c",
   "metadata": {},
   "outputs": [
    {
     "data": {
      "text/html": [
       "<div>\n",
       "<style scoped>\n",
       "    .dataframe tbody tr th:only-of-type {\n",
       "        vertical-align: middle;\n",
       "    }\n",
       "\n",
       "    .dataframe tbody tr th {\n",
       "        vertical-align: top;\n",
       "    }\n",
       "\n",
       "    .dataframe thead th {\n",
       "        text-align: right;\n",
       "    }\n",
       "</style>\n",
       "<table border=\"1\" class=\"dataframe\">\n",
       "  <thead>\n",
       "    <tr style=\"text-align: right;\">\n",
       "      <th></th>\n",
       "      <th>predicted_approved</th>\n",
       "      <th>predicted_not_approved</th>\n",
       "    </tr>\n",
       "  </thead>\n",
       "  <tbody>\n",
       "    <tr>\n",
       "      <th>approved</th>\n",
       "      <td>143</td>\n",
       "      <td>181</td>\n",
       "    </tr>\n",
       "    <tr>\n",
       "      <th>not_approved</th>\n",
       "      <td>46</td>\n",
       "      <td>484</td>\n",
       "    </tr>\n",
       "  </tbody>\n",
       "</table>\n",
       "</div>"
      ],
      "text/plain": [
       "              predicted_approved  predicted_not_approved\n",
       "approved                     143                     181\n",
       "not_approved                  46                     484"
      ]
     },
     "execution_count": 48,
     "metadata": {},
     "output_type": "execute_result"
    }
   ],
   "source": [
    "preds = model1.predict(X_test)\n",
    "confmtrx = np.array(confusion_matrix(y_test, preds))\n",
    "confusion = pd.DataFrame(confmtrx, index=['approved', 'not_approved'],\n",
    "columns=['predicted_approved', 'predicted_not_approved'])\n",
    "confusion"
   ]
  },
  {
   "cell_type": "code",
   "execution_count": 49,
   "id": "7847b1f9",
   "metadata": {},
   "outputs": [
    {
     "data": {
      "text/html": [
       "<div>\n",
       "<style scoped>\n",
       "    .dataframe tbody tr th:only-of-type {\n",
       "        vertical-align: middle;\n",
       "    }\n",
       "\n",
       "    .dataframe tbody tr th {\n",
       "        vertical-align: top;\n",
       "    }\n",
       "\n",
       "    .dataframe thead th {\n",
       "        text-align: right;\n",
       "    }\n",
       "</style>\n",
       "<table border=\"1\" class=\"dataframe\">\n",
       "  <thead>\n",
       "    <tr style=\"text-align: right;\">\n",
       "      <th></th>\n",
       "      <th>Variable</th>\n",
       "      <th>Odds_ratio</th>\n",
       "    </tr>\n",
       "  </thead>\n",
       "  <tbody>\n",
       "    <tr>\n",
       "      <th>0</th>\n",
       "      <td>loan_id</td>\n",
       "      <td>1.00</td>\n",
       "    </tr>\n",
       "    <tr>\n",
       "      <th>1</th>\n",
       "      <td>no_of_dependents</td>\n",
       "      <td>1.00</td>\n",
       "    </tr>\n",
       "    <tr>\n",
       "      <th>2</th>\n",
       "      <td>education</td>\n",
       "      <td>1.00</td>\n",
       "    </tr>\n",
       "    <tr>\n",
       "      <th>3</th>\n",
       "      <td>self_employed</td>\n",
       "      <td>1.00</td>\n",
       "    </tr>\n",
       "    <tr>\n",
       "      <th>4</th>\n",
       "      <td>income_annum</td>\n",
       "      <td>1.00</td>\n",
       "    </tr>\n",
       "    <tr>\n",
       "      <th>5</th>\n",
       "      <td>loan_amount</td>\n",
       "      <td>1.00</td>\n",
       "    </tr>\n",
       "    <tr>\n",
       "      <th>6</th>\n",
       "      <td>loan_term</td>\n",
       "      <td>1.00</td>\n",
       "    </tr>\n",
       "    <tr>\n",
       "      <th>7</th>\n",
       "      <td>cibil_score</td>\n",
       "      <td>1.01</td>\n",
       "    </tr>\n",
       "    <tr>\n",
       "      <th>8</th>\n",
       "      <td>residential_assets_value</td>\n",
       "      <td>1.00</td>\n",
       "    </tr>\n",
       "    <tr>\n",
       "      <th>9</th>\n",
       "      <td>commercial_assets_value</td>\n",
       "      <td>1.00</td>\n",
       "    </tr>\n",
       "    <tr>\n",
       "      <th>10</th>\n",
       "      <td>luxury_assets_value</td>\n",
       "      <td>1.00</td>\n",
       "    </tr>\n",
       "    <tr>\n",
       "      <th>11</th>\n",
       "      <td>bank_asset_value</td>\n",
       "      <td>1.00</td>\n",
       "    </tr>\n",
       "  </tbody>\n",
       "</table>\n",
       "</div>"
      ],
      "text/plain": [
       "                     Variable  Odds_ratio\n",
       "0                     loan_id        1.00\n",
       "1            no_of_dependents        1.00\n",
       "2                   education        1.00\n",
       "3               self_employed        1.00\n",
       "4                income_annum        1.00\n",
       "5                 loan_amount        1.00\n",
       "6                   loan_term        1.00\n",
       "7                 cibil_score        1.01\n",
       "8    residential_assets_value        1.00\n",
       "9     commercial_assets_value        1.00\n",
       "10        luxury_assets_value        1.00\n",
       "11           bank_asset_value        1.00"
      ]
     },
     "execution_count": 49,
     "metadata": {},
     "output_type": "execute_result"
    }
   ],
   "source": [
    "oddsratio = pd.DataFrame({ 'Variable':X.columns.tolist(),'Odds_ratio': (np.exp(model1.coef_).T).round(2).flatten().tolist()})\n",
    "oddsratio\n"
   ]
  },
  {
   "cell_type": "code",
   "execution_count": 50,
   "id": "ccf71fd6",
   "metadata": {},
   "outputs": [
    {
     "name": "stdout",
     "output_type": "stream",
     "text": [
      "Optimization terminated successfully.\n",
      "         Current function value: 0.220321\n",
      "         Iterations 8\n",
      "                           Logit Regression Results                           \n",
      "==============================================================================\n",
      "Dep. Variable:            loan_status   No. Observations:                 3415\n",
      "Model:                          Logit   Df Residuals:                     3402\n",
      "Method:                           MLE   Df Model:                           12\n",
      "Date:                Wed, 22 Nov 2023   Pseudo R-squ.:                  0.6676\n",
      "Time:                        12:38:17   Log-Likelihood:                -752.40\n",
      "converged:                       True   LL-Null:                       -2263.5\n",
      "Covariance Type:            nonrobust   LLR p-value:                     0.000\n",
      "=============================================================================================\n",
      "                                coef    std err          z      P>|z|      [0.025      0.975]\n",
      "---------------------------------------------------------------------------------------------\n",
      "const                       -11.4673      0.507    -22.623      0.000     -12.461     -10.474\n",
      "loan_id                    6.306e-05   5.42e-05      1.163      0.245   -4.32e-05       0.000\n",
      " no_of_dependents            -0.0374      0.039     -0.963      0.336      -0.113       0.039\n",
      " education                    0.1092      0.132      0.825      0.410      -0.150       0.369\n",
      " self_employed                0.1610      0.132      1.218      0.223      -0.098       0.420\n",
      " income_annum             -6.848e-07   1.03e-07     -6.621      0.000   -8.87e-07   -4.82e-07\n",
      " loan_amount               1.515e-07   2.02e-08      7.505      0.000    1.12e-07    1.91e-07\n",
      " loan_term                   -0.1537      0.013    -11.956      0.000      -0.179      -0.129\n",
      " cibil_score                  0.0249      0.001     26.452      0.000       0.023       0.027\n",
      " residential_assets_value  5.474e-09   1.31e-08      0.417      0.677   -2.03e-08    3.12e-08\n",
      " commercial_assets_value   2.271e-08   1.92e-08      1.184      0.236   -1.49e-08    6.03e-08\n",
      " luxury_assets_value       3.648e-08   1.95e-08      1.874      0.061   -1.68e-09    7.46e-08\n",
      " bank_asset_value          6.189e-08   3.68e-08      1.680      0.093   -1.03e-08    1.34e-07\n",
      "=============================================================================================\n"
     ]
    }
   ],
   "source": [
    "logit_model=sm.Logit(y_train,sm.add_constant(X_train))\n",
    "logit_model\n",
    "result=logit_model.fit()\n",
    "stats1=result.summary()\n",
    "print(stats1)"
   ]
  },
  {
   "cell_type": "markdown",
   "id": "526a70ba",
   "metadata": {},
   "source": [
    "# Part 2 Logistic Regression with Standard scaling\n"
   ]
  },
  {
   "cell_type": "code",
   "execution_count": 52,
   "id": "ccee0ef4",
   "metadata": {},
   "outputs": [],
   "source": [
    "from sklearn.preprocessing import StandardScaler\n",
    "scaler = StandardScaler()\n",
    "X_train_scaled=scaler.fit_transform(X_train)\n",
    "X_test_scaled=scaler.transform(X_test)"
   ]
  },
  {
   "cell_type": "code",
   "execution_count": 53,
   "id": "cb9bbfe6",
   "metadata": {},
   "outputs": [
    {
     "name": "stdout",
     "output_type": "stream",
     "text": [
      "Intercept: [1.75751045]\n",
      "Coefficients: [[ 0.07402589 -0.06097675  0.05242613  0.07950697 -1.69057844  1.24485636\n",
      "  -0.84446521  4.15188686  0.02666236  0.09048744  0.26170811  0.16943868]]\n",
      "Accuracy: 0.9262295081967213\n"
     ]
    }
   ],
   "source": [
    "model2 = LogisticRegression(max_iter=1000,random_state=0).fit(X_train_scaled, y_train)\n",
    "preds2 = model2.predict(X_test_scaled)\n",
    "\n",
    "print('Intercept:', model2.intercept_)\n",
    "print('Coefficients:', model2.coef_)\n",
    "print('Accuracy:',model2.score(X_test_scaled,y_test))"
   ]
  },
  {
   "cell_type": "code",
   "execution_count": 54,
   "id": "814eac03",
   "metadata": {},
   "outputs": [
    {
     "name": "stderr",
     "output_type": "stream",
     "text": [
      "c:\\users\\user\\appdata\\local\\programs\\python\\python39\\lib\\site-packages\\sklearn\\base.py:409: UserWarning: X does not have valid feature names, but LogisticRegression was fitted with feature names\n",
      "  warnings.warn(\n"
     ]
    },
    {
     "data": {
      "text/html": [
       "<div>\n",
       "<style scoped>\n",
       "    .dataframe tbody tr th:only-of-type {\n",
       "        vertical-align: middle;\n",
       "    }\n",
       "\n",
       "    .dataframe tbody tr th {\n",
       "        vertical-align: top;\n",
       "    }\n",
       "\n",
       "    .dataframe thead th {\n",
       "        text-align: right;\n",
       "    }\n",
       "</style>\n",
       "<table border=\"1\" class=\"dataframe\">\n",
       "  <thead>\n",
       "    <tr style=\"text-align: right;\">\n",
       "      <th></th>\n",
       "      <th>predicted_approved</th>\n",
       "      <th>predicted_not_approved</th>\n",
       "    </tr>\n",
       "  </thead>\n",
       "  <tbody>\n",
       "    <tr>\n",
       "      <th>approved</th>\n",
       "      <td>321</td>\n",
       "      <td>3</td>\n",
       "    </tr>\n",
       "    <tr>\n",
       "      <th>not_approved</th>\n",
       "      <td>111</td>\n",
       "      <td>419</td>\n",
       "    </tr>\n",
       "  </tbody>\n",
       "</table>\n",
       "</div>"
      ],
      "text/plain": [
       "              predicted_approved  predicted_not_approved\n",
       "approved                     321                       3\n",
       "not_approved                 111                     419"
      ]
     },
     "execution_count": 54,
     "metadata": {},
     "output_type": "execute_result"
    }
   ],
   "source": [
    "preds = model1.predict(X_test_scaled)\n",
    "confmtrx = np.array(confusion_matrix(y_test, preds))\n",
    "confusion = pd.DataFrame(confmtrx, index=['approved', 'not_approved'],\n",
    "columns=['predicted_approved', 'predicted_not_approved'])\n",
    "confusion"
   ]
  },
  {
   "cell_type": "code",
   "execution_count": 55,
   "id": "488d6054",
   "metadata": {},
   "outputs": [
    {
     "data": {
      "text/html": [
       "<div>\n",
       "<style scoped>\n",
       "    .dataframe tbody tr th:only-of-type {\n",
       "        vertical-align: middle;\n",
       "    }\n",
       "\n",
       "    .dataframe tbody tr th {\n",
       "        vertical-align: top;\n",
       "    }\n",
       "\n",
       "    .dataframe thead th {\n",
       "        text-align: right;\n",
       "    }\n",
       "</style>\n",
       "<table border=\"1\" class=\"dataframe\">\n",
       "  <thead>\n",
       "    <tr style=\"text-align: right;\">\n",
       "      <th></th>\n",
       "      <th>Variable</th>\n",
       "      <th>Odds_ratio</th>\n",
       "    </tr>\n",
       "  </thead>\n",
       "  <tbody>\n",
       "    <tr>\n",
       "      <th>0</th>\n",
       "      <td>loan_id</td>\n",
       "      <td>1.08</td>\n",
       "    </tr>\n",
       "    <tr>\n",
       "      <th>1</th>\n",
       "      <td>no_of_dependents</td>\n",
       "      <td>0.94</td>\n",
       "    </tr>\n",
       "    <tr>\n",
       "      <th>2</th>\n",
       "      <td>education</td>\n",
       "      <td>1.05</td>\n",
       "    </tr>\n",
       "    <tr>\n",
       "      <th>3</th>\n",
       "      <td>self_employed</td>\n",
       "      <td>1.08</td>\n",
       "    </tr>\n",
       "    <tr>\n",
       "      <th>4</th>\n",
       "      <td>income_annum</td>\n",
       "      <td>0.18</td>\n",
       "    </tr>\n",
       "    <tr>\n",
       "      <th>5</th>\n",
       "      <td>loan_amount</td>\n",
       "      <td>3.47</td>\n",
       "    </tr>\n",
       "    <tr>\n",
       "      <th>6</th>\n",
       "      <td>loan_term</td>\n",
       "      <td>0.43</td>\n",
       "    </tr>\n",
       "    <tr>\n",
       "      <th>7</th>\n",
       "      <td>cibil_score</td>\n",
       "      <td>63.55</td>\n",
       "    </tr>\n",
       "    <tr>\n",
       "      <th>8</th>\n",
       "      <td>residential_assets_value</td>\n",
       "      <td>1.03</td>\n",
       "    </tr>\n",
       "    <tr>\n",
       "      <th>9</th>\n",
       "      <td>commercial_assets_value</td>\n",
       "      <td>1.09</td>\n",
       "    </tr>\n",
       "    <tr>\n",
       "      <th>10</th>\n",
       "      <td>luxury_assets_value</td>\n",
       "      <td>1.30</td>\n",
       "    </tr>\n",
       "    <tr>\n",
       "      <th>11</th>\n",
       "      <td>bank_asset_value</td>\n",
       "      <td>1.18</td>\n",
       "    </tr>\n",
       "  </tbody>\n",
       "</table>\n",
       "</div>"
      ],
      "text/plain": [
       "                     Variable  Odds_ratio\n",
       "0                     loan_id        1.08\n",
       "1            no_of_dependents        0.94\n",
       "2                   education        1.05\n",
       "3               self_employed        1.08\n",
       "4                income_annum        0.18\n",
       "5                 loan_amount        3.47\n",
       "6                   loan_term        0.43\n",
       "7                 cibil_score       63.55\n",
       "8    residential_assets_value        1.03\n",
       "9     commercial_assets_value        1.09\n",
       "10        luxury_assets_value        1.30\n",
       "11           bank_asset_value        1.18"
      ]
     },
     "execution_count": 55,
     "metadata": {},
     "output_type": "execute_result"
    }
   ],
   "source": [
    "oddsratio = pd.DataFrame({ 'Variable':X.columns.tolist(),'Odds_ratio': (np.exp(model2.coef_).T).round(2).flatten().tolist()})\n",
    "oddsratio"
   ]
  },
  {
   "cell_type": "code",
   "execution_count": 56,
   "id": "61f4a386",
   "metadata": {},
   "outputs": [
    {
     "name": "stdout",
     "output_type": "stream",
     "text": [
      "Optimization terminated successfully.\n",
      "         Current function value: 0.220321\n",
      "         Iterations 8\n",
      "                           Logit Regression Results                           \n",
      "==============================================================================\n",
      "Dep. Variable:            loan_status   No. Observations:                 3415\n",
      "Model:                          Logit   Df Residuals:                     3402\n",
      "Method:                           MLE   Df Model:                           12\n",
      "Date:                Wed, 22 Nov 2023   Pseudo R-squ.:                  0.6676\n",
      "Time:                        12:41:39   Log-Likelihood:                -752.40\n",
      "converged:                       True   LL-Null:                       -2263.5\n",
      "Covariance Type:            nonrobust   LLR p-value:                     0.000\n",
      "==============================================================================\n",
      "                 coef    std err          z      P>|z|      [0.025      0.975]\n",
      "------------------------------------------------------------------------------\n",
      "const          1.8119      0.094     19.205      0.000       1.627       1.997\n",
      "x1             0.0777      0.067      1.163      0.245      -0.053       0.209\n",
      "x2            -0.0632      0.066     -0.963      0.336      -0.192       0.065\n",
      "x3             0.0546      0.066      0.825      0.410      -0.075       0.184\n",
      "x4             0.0805      0.066      1.218      0.223      -0.049       0.210\n",
      "x5            -1.9247      0.291     -6.621      0.000      -2.494      -1.355\n",
      "x6             1.3700      0.183      7.505      0.000       1.012       1.728\n",
      "x7            -0.8773      0.073    -11.956      0.000      -1.021      -0.733\n",
      "x8             4.2866      0.162     26.452      0.000       3.969       4.604\n",
      "x9             0.0358      0.086      0.417      0.677      -0.132       0.204\n",
      "x10            0.0999      0.084      1.184      0.236      -0.065       0.265\n",
      "x11            0.3342      0.178      1.874      0.061      -0.015       0.684\n",
      "x12            0.2023      0.120      1.680      0.093      -0.034       0.438\n",
      "==============================================================================\n"
     ]
    }
   ],
   "source": [
    "logit_model=sm.Logit(y_train,sm.add_constant(X_train_scaled))\n",
    "logit_model\n",
    "result=logit_model.fit()\n",
    "stats1=result.summary()\n",
    "print(stats1)"
   ]
  }
 ],
 "metadata": {
  "kernelspec": {
   "display_name": "Python 3 (ipykernel)",
   "language": "python",
   "name": "python3"
  },
  "language_info": {
   "codemirror_mode": {
    "name": "ipython",
    "version": 3
   },
   "file_extension": ".py",
   "mimetype": "text/x-python",
   "name": "python",
   "nbconvert_exporter": "python",
   "pygments_lexer": "ipython3",
   "version": "3.9.1"
  }
 },
 "nbformat": 4,
 "nbformat_minor": 5
}
